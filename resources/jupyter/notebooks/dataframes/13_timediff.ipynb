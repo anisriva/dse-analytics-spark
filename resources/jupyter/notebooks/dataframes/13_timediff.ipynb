{
 "cells": [
  {
   "cell_type": "code",
   "execution_count": 1,
   "metadata": {},
   "outputs": [],
   "source": [
    "from os import environ\n",
    "from pyspark.sql import SparkSession\n",
    "from pyspark.sql import functions as f\n",
    "from pyspark.sql import types as t\n",
    "from pyspark.sql.window import Window"
   ]
  },
  {
   "cell_type": "code",
   "execution_count": 2,
   "metadata": {},
   "outputs": [],
   "source": [
    "spark = SparkSession.builder.appName(\"user\").getOrCreate()"
   ]
  },
  {
   "cell_type": "code",
   "execution_count": 143,
   "metadata": {},
   "outputs": [],
   "source": [
    "file_path = \"file:///\"+environ['DATA_LAKE']\n",
    "user_df = spark.createDataFrame([\n",
    "  (\"blue\", \"view\", 1610494094750, 11),\n",
    "  (\"green\", \"add to bag\", 1510593114350, 21),\n",
    "  (\"red\", \"close\", 1610493115350, 41),\n",
    "  (\"blue\", \"view\", 1610494094350, 11),\n",
    "  (\"blue\", \"close\", 1510593114312, 21),\n",
    "  (\"red\", \"view\", 1610493114350, 41),\n",
    "  (\"red\", \"view\", 1610593114350, 41),\n",
    "  (\"green\", \"purchase\", 1610494094350, 31)\n",
    "], [\"item\", \"event\", \"timestamp\", \"userId\"])\n",
    "\n",
    "windowSpec = Window.partitionBy(\"userId\").orderBy(\"time_stamp\")\n",
    "\n",
    "user_df = user_df \\\n",
    "            .withColumn(\"time_stamp\", f.from_unixtime(user_df.timestamp).alias(\"time_stamp\")) \\\n",
    "            .drop(user_df.timestamp) \\\n",
    "            .withColumn(\"time_stamp_logout\", f.lead(f.col(\"time_stamp\")).over(windowSpec)) \\\n",
    "            .orderBy(f.col(\"userId\").asc(), f.col(\"time_stamp\").asc()) \\\n",
    "            .filter(f.col(\"time_stamp_logout\").isNotNull() ) \\\n",
    "            .withColumn(\"time_diff\", f.datediff(f.col(\"time_stamp_logout\"), f.col(\"time_stamp\")))"
   ]
  },
  {
   "cell_type": "code",
   "execution_count": 144,
   "metadata": {},
   "outputs": [
    {
     "name": "stdout",
     "output_type": "stream",
     "text": [
      "root\n",
      " |-- item: string (nullable = true)\n",
      " |-- event: string (nullable = true)\n",
      " |-- userId: long (nullable = true)\n",
      " |-- time_stamp: string (nullable = true)\n",
      " |-- time_stamp_logout: string (nullable = true)\n",
      " |-- time_diff: integer (nullable = true)\n",
      "\n"
     ]
    }
   ],
   "source": [
    "user_df.printSchema()"
   ]
  },
  {
   "cell_type": "code",
   "execution_count": 145,
   "metadata": {},
   "outputs": [
    {
     "name": "stdout",
     "output_type": "stream",
     "text": [
      "+----+-----+------+--------------------+--------------------+---------+\n",
      "|item|event|userId|          time_stamp|   time_stamp_logout|time_diff|\n",
      "+----+-----+------+--------------------+--------------------+---------+\n",
      "|blue| view|    11|53004-07-11 22:39:10|53004-07-11 22:45:50|     null|\n",
      "|blue|close|    21|49838-10-16 14:25:12|49838-10-16 14:25:50|     null|\n",
      "| red| view|    41|53004-06-30 14:25:50|53004-06-30 14:42:30|     null|\n",
      "| red|close|    41|53004-06-30 14:42:30|53007-09-01 00:12:30|     null|\n",
      "+----+-----+------+--------------------+--------------------+---------+\n",
      "\n"
     ]
    }
   ],
   "source": [
    "user_df.show()"
   ]
  },
  {
   "cell_type": "code",
   "execution_count": null,
   "metadata": {},
   "outputs": [],
   "source": []
  }
 ],
 "metadata": {
  "kernelspec": {
   "display_name": "Python 3",
   "language": "python",
   "name": "python3"
  },
  "language_info": {
   "codemirror_mode": {
    "name": "ipython",
    "version": 3
   },
   "file_extension": ".py",
   "mimetype": "text/x-python",
   "name": "python",
   "nbconvert_exporter": "python",
   "pygments_lexer": "ipython3",
   "version": "3.8.5"
  }
 },
 "nbformat": 4,
 "nbformat_minor": 2
}
