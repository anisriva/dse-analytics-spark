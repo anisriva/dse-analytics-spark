{
 "cells": [
  {
   "cell_type": "markdown",
   "metadata": {},
   "source": [
    "## Demonstrate the functionalities of boradcast variables and UDFs"
   ]
  },
  {
   "cell_type": "code",
   "execution_count": 71,
   "metadata": {},
   "outputs": [],
   "source": [
    "from pyspark.sql import SparkSession, functions as f\n",
    "from ast import literal_eval"
   ]
  },
  {
   "cell_type": "code",
   "execution_count": 10,
   "metadata": {},
   "outputs": [],
   "source": [
    "spark = SparkSession.builder.appName(\"best_movies\").getOrCreate()"
   ]
  },
  {
   "cell_type": "code",
   "execution_count": 11,
   "metadata": {},
   "outputs": [],
   "source": [
    "ratings_df = spark.read.csv(\"file:///var/lib/jupyter/data/ratings.csv\", header=True)"
   ]
  },
  {
   "cell_type": "code",
   "execution_count": 37,
   "metadata": {},
   "outputs": [],
   "source": [
    "movies_df = spark.read.csv(\"file:///var/lib/jupyter/data/movies.csv\", header=True)"
   ]
  },
  {
   "cell_type": "markdown",
   "metadata": {},
   "source": [
    "### Multiple aggregations done within the dataframe"
   ]
  },
  {
   "cell_type": "code",
   "execution_count": 217,
   "metadata": {},
   "outputs": [],
   "source": [
    "movie_avg_rating = ratings_df.select(ratings_df.movieId, ratings_df.rating) \\\n",
    "        .groupBy(ratings_df.movieId) \\\n",
    "        .agg(f.round(f.avg(ratings_df.rating), 2).alias(\"avg_rating\"), \\\n",
    "             f.round(f.sum(ratings_df.rating), 2).alias(\"total_rating\"), \\\n",
    "             f.count(ratings_df.rating).alias(\"num_ratings\"))"
   ]
  },
  {
   "cell_type": "markdown",
   "metadata": {},
   "source": [
    "### Converting to dictionary and exporting as a broadcast variable"
   ]
  },
  {
   "cell_type": "code",
   "execution_count": 218,
   "metadata": {},
   "outputs": [],
   "source": [
    "movies_dict = spark.sparkContext.broadcast({int(row.asDict()[\"movieId\"]):row.asDict()[\"title\"].encode(\"ascii\", \"ignore\") for row in movies_df.select(movies_df.movieId, movies_df.title).collect()})"
   ]
  },
  {
   "cell_type": "markdown",
   "metadata": {},
   "source": [
    "### Creating a UDF"
   ]
  },
  {
   "cell_type": "code",
   "execution_count": 219,
   "metadata": {},
   "outputs": [],
   "source": [
    "def lookup_movie_name(movieId):\n",
    "    return movies_dict.value.get(movieId, None)\n",
    "\n",
    "lookup_movie_name_udf = f.udf(lookup_movie_name)"
   ]
  },
  {
   "cell_type": "markdown",
   "metadata": {},
   "source": [
    "### Casting the cell to a different datatype"
   ]
  },
  {
   "cell_type": "code",
   "execution_count": 220,
   "metadata": {},
   "outputs": [],
   "source": [
    "result_df = movie_avg_rating \\\n",
    "            .withColumn(\"movieId\", movie_avg_rating.movieId.cast(IntegerType()))"
   ]
  },
  {
   "cell_type": "code",
   "execution_count": 223,
   "metadata": {},
   "outputs": [],
   "source": [
    "main_df = result_df \\\n",
    "        .withColumn(\"title\", lookup_movie_name_udf(result_df.movieId)) \\\n",
    "        .sort(result_df.num_ratings.desc(), result_df.avg_rating.desc())"
   ]
  },
  {
   "cell_type": "code",
   "execution_count": 224,
   "metadata": {},
   "outputs": [
    {
     "name": "stdout",
     "output_type": "stream",
     "text": [
      "+-------+----------+------------+-----------+--------------------+\n",
      "|movieId|avg_rating|total_rating|num_ratings|               title|\n",
      "+-------+----------+------------+-----------+--------------------+\n",
      "|    356|      4.16|      1370.0|        329| Forrest Gump (1994)|\n",
      "|    318|      4.43|      1404.0|        317|Shawshank Redempt...|\n",
      "|    296|       4.2|      1288.5|        307| Pulp Fiction (1994)|\n",
      "|    593|      4.16|      1161.0|        279|Silence of the La...|\n",
      "|   2571|      4.19|      1165.5|        278|  Matrix, The (1999)|\n",
      "|    260|      4.23|      1062.0|        251|Star Wars: Episod...|\n",
      "|    480|      3.75|       892.5|        238|Jurassic Park (1993)|\n",
      "|    110|      4.03|       955.5|        237|   Braveheart (1995)|\n",
      "|    589|      3.97|       889.5|        224|Terminator 2: Jud...|\n",
      "|    527|      4.23|       929.5|        220|Schindler's List ...|\n",
      "|   2959|      4.27|       931.5|        218|   Fight Club (1999)|\n",
      "|      1|      3.92|       843.0|        215|    Toy Story (1995)|\n",
      "|   1196|      4.22|       889.5|        211|Star Wars: Episod...|\n",
      "|     50|      4.24|       864.5|        204|Usual Suspects, T...|\n",
      "|   2858|      4.06|       827.5|        204|American Beauty (...|\n",
      "|     47|      3.98|       807.0|        203|Seven (a.k.a. Se7...|\n",
      "|    780|      3.45|       696.0|        202|Independence Day ...|\n",
      "|    150|      3.85|       773.0|        201|    Apollo 13 (1995)|\n",
      "|   1198|      4.21|       841.5|        200|Raiders of the Lo...|\n",
      "|   4993|      4.11|       813.0|        198|Lord of the Rings...|\n",
      "+-------+----------+------------+-----------+--------------------+\n",
      "only showing top 20 rows\n",
      "\n"
     ]
    }
   ],
   "source": [
    "main_df.show()"
   ]
  },
  {
   "cell_type": "code",
   "execution_count": null,
   "metadata": {},
   "outputs": [],
   "source": [
    "spark.stop()"
   ]
  }
 ],
 "metadata": {
  "kernelspec": {
   "display_name": "Python 2",
   "language": "python",
   "name": "python2"
  },
  "language_info": {
   "codemirror_mode": {
    "name": "ipython",
    "version": 2
   },
   "file_extension": ".py",
   "mimetype": "text/x-python",
   "name": "python",
   "nbconvert_exporter": "python",
   "pygments_lexer": "ipython2",
   "version": "2.7.16"
  }
 },
 "nbformat": 4,
 "nbformat_minor": 2
}
