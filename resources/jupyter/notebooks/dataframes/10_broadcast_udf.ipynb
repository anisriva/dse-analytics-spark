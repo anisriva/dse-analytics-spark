{
 "cells": [
  {
   "cell_type": "markdown",
   "metadata": {},
   "source": [
    "## Demonstrate the functionalities of boradcast variables and UDFs"
   ]
  },
  {
   "cell_type": "code",
   "execution_count": 1,
   "metadata": {},
   "outputs": [],
   "source": [
    "from os import environ\n",
    "from ast import literal_eval\n",
    "from pyspark.sql import SparkSession, functions as f\n",
    "from pyspark.sql.types import IntegerType"
   ]
  },
  {
   "cell_type": "code",
   "execution_count": 2,
   "metadata": {},
   "outputs": [],
   "source": [
    "spark = SparkSession.builder.appName(\"best_movies\").getOrCreate()\n",
    "file_path = \"file:///\"+environ['DATA_LAKE']"
   ]
  },
  {
   "cell_type": "code",
   "execution_count": 3,
   "metadata": {},
   "outputs": [],
   "source": [
    "ratings_df = spark.read.csv(file_path+\"ratings.csv\", header=True)"
   ]
  },
  {
   "cell_type": "code",
   "execution_count": 4,
   "metadata": {},
   "outputs": [],
   "source": [
    "movies_df = spark.read.csv(file_path+\"movies.csv\", header=True)"
   ]
  },
  {
   "cell_type": "markdown",
   "metadata": {},
   "source": [
    "### Multiple aggregations done within the dataframe"
   ]
  },
  {
   "cell_type": "code",
   "execution_count": 5,
   "metadata": {},
   "outputs": [],
   "source": [
    "movie_avg_rating = ratings_df.select(ratings_df.movieId, ratings_df.rating) \\\n",
    "        .groupBy(ratings_df.movieId) \\\n",
    "        .agg(f.round(f.avg(ratings_df.rating), 2).alias(\"avg_rating\"), \\\n",
    "             f.round(f.sum(ratings_df.rating), 2).alias(\"total_rating\"), \\\n",
    "             f.count(ratings_df.rating).alias(\"num_ratings\"))"
   ]
  },
  {
   "cell_type": "markdown",
   "metadata": {},
   "source": [
    "### Converting to dictionary and exporting as a broadcast variable"
   ]
  },
  {
   "cell_type": "code",
   "execution_count": 6,
   "metadata": {},
   "outputs": [],
   "source": [
    "movies_dict = spark.sparkContext.broadcast({int(row.asDict()[\"movieId\"]):row.asDict()[\"title\"].encode(\"ascii\", \"ignore\") for row in movies_df.select(movies_df.movieId, movies_df.title).collect()})"
   ]
  },
  {
   "cell_type": "markdown",
   "metadata": {},
   "source": [
    "### Creating a UDF"
   ]
  },
  {
   "cell_type": "code",
   "execution_count": 7,
   "metadata": {},
   "outputs": [],
   "source": [
    "def lookup_movie_name(movieId):\n",
    "    return movies_dict.value.get(movieId, None)\n",
    "\n",
    "lookup_movie_name_udf = f.udf(lookup_movie_name)"
   ]
  },
  {
   "cell_type": "markdown",
   "metadata": {},
   "source": [
    "### Casting the cell to a different datatype"
   ]
  },
  {
   "cell_type": "code",
   "execution_count": 8,
   "metadata": {},
   "outputs": [],
   "source": [
    "result_df = movie_avg_rating \\\n",
    "            .withColumn(\"movieId\", movie_avg_rating.movieId.cast(IntegerType()))"
   ]
  },
  {
   "cell_type": "code",
   "execution_count": 9,
   "metadata": {},
   "outputs": [],
   "source": [
    "main_df = result_df \\\n",
    "        .withColumn(\"title\", lookup_movie_name_udf(result_df.movieId)) \\\n",
    "        .sort(result_df.num_ratings.desc(), result_df.avg_rating.desc())"
   ]
  },
  {
   "cell_type": "code",
   "execution_count": 10,
   "metadata": {},
   "outputs": [
    {
     "name": "stdout",
     "output_type": "stream",
     "text": [
      "+-------+----------+------------+-----------+-----------+\n",
      "|movieId|avg_rating|total_rating|num_ratings|      title|\n",
      "+-------+----------+------------+-----------+-----------+\n",
      "|    356|      4.16|      1370.0|        329|[B@658d76ed|\n",
      "|    318|      4.43|      1404.0|        317|[B@1fe88935|\n",
      "|    296|       4.2|      1288.5|        307|[B@19b04904|\n",
      "|    593|      4.16|      1161.0|        279|[B@66131672|\n",
      "|   2571|      4.19|      1165.5|        278|[B@49e9b503|\n",
      "|    260|      4.23|      1062.0|        251|[B@1ad539f1|\n",
      "|    480|      3.75|       892.5|        238|[B@7e399b8e|\n",
      "|    110|      4.03|       955.5|        237|[B@7c38fcb2|\n",
      "|    589|      3.97|       889.5|        224|[B@3abf6028|\n",
      "|    527|      4.23|       929.5|        220|[B@159479ac|\n",
      "|   2959|      4.27|       931.5|        218| [B@528c504|\n",
      "|      1|      3.92|       843.0|        215|[B@3535989b|\n",
      "|   1196|      4.22|       889.5|        211| [B@ffba49e|\n",
      "|     50|      4.24|       864.5|        204|[B@3e5e03e7|\n",
      "|   2858|      4.06|       827.5|        204|[B@2a53be54|\n",
      "|     47|      3.98|       807.0|        203|[B@425b6f0c|\n",
      "|    780|      3.45|       696.0|        202|[B@21c754f0|\n",
      "|    150|      3.85|       773.0|        201|[B@2480454b|\n",
      "|   1198|      4.21|       841.5|        200|[B@41d3e702|\n",
      "|   4993|      4.11|       813.0|        198|[B@138c7f03|\n",
      "+-------+----------+------------+-----------+-----------+\n",
      "only showing top 20 rows\n",
      "\n"
     ]
    }
   ],
   "source": [
    "main_df.show()"
   ]
  },
  {
   "cell_type": "code",
   "execution_count": 11,
   "metadata": {},
   "outputs": [],
   "source": [
    "spark.stop()"
   ]
  }
 ],
 "metadata": {
  "interpreter": {
   "hash": "668a0c9365313c23e463277e6aba067c287d5f8af493a075d87a49f0c4e66349"
  },
  "kernelspec": {
   "display_name": "Python 2",
   "language": "python",
   "name": "python3"
  },
  "language_info": {
   "codemirror_mode": {
    "name": "ipython",
    "version": 3
   },
   "file_extension": ".py",
   "mimetype": "text/x-python",
   "name": "python",
   "nbconvert_exporter": "python",
   "pygments_lexer": "ipython3",
   "version": "3.8.5"
  }
 },
 "nbformat": 4,
 "nbformat_minor": 2
}
