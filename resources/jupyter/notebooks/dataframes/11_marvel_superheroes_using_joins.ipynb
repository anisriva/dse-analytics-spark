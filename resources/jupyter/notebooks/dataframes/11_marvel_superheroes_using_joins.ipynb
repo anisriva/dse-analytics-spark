{
 "cells": [
  {
   "cell_type": "markdown",
   "metadata": {},
   "source": [
    "### Boiler plate code"
   ]
  },
  {
   "cell_type": "code",
   "execution_count": 76,
   "metadata": {},
   "outputs": [],
   "source": [
    "from pyspark.sql import SparkSession, functions as f\n",
    "from pyspark.sql.types import (StructField, StructType, \n",
    "                               IntegerType, StringType)"
   ]
  },
  {
   "cell_type": "markdown",
   "metadata": {},
   "source": [
    "### Define schema"
   ]
  },
  {
   "cell_type": "code",
   "execution_count": 77,
   "metadata": {},
   "outputs": [],
   "source": [
    "graph_fields = [\n",
    "        StructField(name=\"hero_graph\", dataType=StringType(), nullable=True)\n",
    "        ]\n",
    "graph_schema = StructType(graph_fields)\n",
    "\n",
    "hero_fields = [\n",
    "        StructField(name=\"hero_cd\", dataType=IntegerType(), nullable=False),\n",
    "        StructField(name=\"hero_name\", dataType=StringType(), nullable=False)\n",
    "            ]\n",
    "hero_schema = StructType(hero_fields)"
   ]
  },
  {
   "cell_type": "markdown",
   "metadata": {},
   "source": [
    "### Load data"
   ]
  },
  {
   "cell_type": "code",
   "execution_count": 78,
   "metadata": {},
   "outputs": [],
   "source": [
    "spark = SparkSession.builder.appName(\"marvel_characters\").getOrCreate()"
   ]
  },
  {
   "cell_type": "code",
   "execution_count": 79,
   "metadata": {},
   "outputs": [],
   "source": [
    "marvel_graph = spark.read.format(\"csv\").schema(graph_schema).load(\"file:///var/lib/jupyter/data/Marvel-graph.txt\")"
   ]
  },
  {
   "cell_type": "code",
   "execution_count": 123,
   "metadata": {},
   "outputs": [],
   "source": [
    "hero_names = spark.read.format(\"csv\").option(\"delimiter\", \" \").schema(hero_schema).load(\"file:///var/lib/jupyter/data/Marvel-names.txt\")"
   ]
  },
  {
   "cell_type": "markdown",
   "metadata": {},
   "source": [
    "### Creating UDF to split the rows and make a list "
   ]
  },
  {
   "cell_type": "code",
   "execution_count": 95,
   "metadata": {},
   "outputs": [],
   "source": [
    "def get_connection_size(line):\n",
    "    return len(line.split())\n",
    "\n",
    "get_connection_size_udf = f.udf(get_connection_size)"
   ]
  },
  {
   "cell_type": "code",
   "execution_count": 96,
   "metadata": {},
   "outputs": [],
   "source": [
    "def get_hero_cd(line):\n",
    "    return line.split()[0]\n",
    "\n",
    "get_hero_cd_udf = f.udf(get_hero_cd)"
   ]
  },
  {
   "cell_type": "code",
   "execution_count": 97,
   "metadata": {},
   "outputs": [],
   "source": [
    "marvel_graph_udf = marvel_graph.withColumn(\"connections\", get_connection_size_udf(marvel_graph.hero_graph)) \\\n",
    "            .withColumn(\"hero_cd\", get_hero_cd_udf(marvel_graph.hero_graph)) \\\n",
    "            .drop(marvel_graph.hero_graph)"
   ]
  },
  {
   "cell_type": "markdown",
   "metadata": {},
   "source": [
    "### Doing the same thing using functions method"
   ]
  },
  {
   "cell_type": "code",
   "execution_count": 98,
   "metadata": {},
   "outputs": [],
   "source": [
    "marvel_graph_func = marvel_graph.withColumn(\"connections\", f.size(f.split(marvel_graph.hero_graph,\" \"))-1) \\\n",
    "                                .withColumn(\"hero_cd\", f.split(marvel_graph.hero_graph,\" \")[0]) \\\n",
    "                                .drop(marvel_graph.hero_graph)"
   ]
  },
  {
   "cell_type": "code",
   "execution_count": 114,
   "metadata": {},
   "outputs": [],
   "source": [
    "popular_super_hero = marvel_graph_func \\\n",
    "        .groupBy(marvel_graph_func.hero_cd) \\\n",
    "        .agg(f.sum(marvel_graph_func.connections) \\\n",
    "        .alias(\"total_connections\")) \\\n",
    "        .orderBy(\"total_connections\", ascending=False) \\\n",
    "        .first()"
   ]
  },
  {
   "cell_type": "code",
   "execution_count": 130,
   "metadata": {},
   "outputs": [],
   "source": [
    "best_hero = hero_names.filter(hero_names.hero_cd == int(popular_super_hero[0])).select(hero_names.hero_name).collect()[0][0]"
   ]
  },
  {
   "cell_type": "code",
   "execution_count": 152,
   "metadata": {},
   "outputs": [],
   "source": [
    "obscure_super_hero = marvel_graph_func \\\n",
    "                .groupBy(marvel_graph_func.hero_cd) \\\n",
    "                .agg(f.sum(marvel_graph_func.connections) \\\n",
    "                .alias(\"total_connections\")) \\\n",
    "                .join(hero_names, marvel_graph_func.hero_cd == hero_names.hero_cd, \"inner\") \\\n",
    "                .filter(f.col(\"total_connections\")==1)"
   ]
  },
  {
   "cell_type": "code",
   "execution_count": 170,
   "metadata": {},
   "outputs": [],
   "source": [
    "obscure_heroes = obscure_super_hero.select(obscure_super_hero.hero_name).collect()"
   ]
  },
  {
   "cell_type": "code",
   "execution_count": 172,
   "metadata": {},
   "outputs": [
    {
     "name": "stdout",
     "output_type": "stream",
     "text": [
      "The most popular hero is CAPTAIN AMERICA and the most obscure superheros are ['BERSERKER II', 'BLARE/', 'MARVEL BOY II/MARTIN', 'MARVEL BOY/MARTIN BU', 'GIURESCU, RADU', 'CLUMSY FOULUP', 'FENRIS', 'RANDAK', 'SHARKSKIN', 'CALLAHAN, DANNY', 'DEATHCHARGE', 'RUNE', 'SEA LEOPARD', 'RED WOLF II', 'ZANTOR', 'JOHNSON, LYNDON BAIN', 'LUNATIK II', 'KULL', 'GERVASE, LADY ALYSSA']\n"
     ]
    }
   ],
   "source": [
    "print \"The most popular hero is {} and the most obscure superheros are {}\".format(best_hero, [hero[0].encode(\"ascii\", \"ignore\") for hero in obscure_heroes])"
   ]
  },
  {
   "cell_type": "code",
   "execution_count": 140,
   "metadata": {},
   "outputs": [
    {
     "data": {
      "text/plain": [
       "u'24-HOUR MAN/EMMANUEL'"
      ]
     },
     "execution_count": 140,
     "metadata": {},
     "output_type": "execute_result"
    }
   ],
   "source": [
    "obscure_hero"
   ]
  },
  {
   "cell_type": "code",
   "execution_count": null,
   "metadata": {},
   "outputs": [],
   "source": []
  }
 ],
 "metadata": {
  "kernelspec": {
   "display_name": "Python 2",
   "language": "python",
   "name": "python2"
  },
  "language_info": {
   "codemirror_mode": {
    "name": "ipython",
    "version": 2
   },
   "file_extension": ".py",
   "mimetype": "text/x-python",
   "name": "python",
   "nbconvert_exporter": "python",
   "pygments_lexer": "ipython2",
   "version": "2.7.16"
  }
 },
 "nbformat": 4,
 "nbformat_minor": 2
}
