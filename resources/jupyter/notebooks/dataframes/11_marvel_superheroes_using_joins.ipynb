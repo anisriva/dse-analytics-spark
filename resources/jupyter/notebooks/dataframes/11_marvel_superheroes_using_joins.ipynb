{
 "cells": [
  {
   "cell_type": "markdown",
   "metadata": {},
   "source": [
    "### Boiler plate code"
   ]
  },
  {
   "cell_type": "code",
   "execution_count": 1,
   "metadata": {},
   "outputs": [],
   "source": [
    "from os import environ\n",
    "from pyspark.sql import SparkSession, functions as f\n",
    "from pyspark.sql.types import (StructField, StructType, \n",
    "                               IntegerType, StringType)"
   ]
  },
  {
   "cell_type": "markdown",
   "metadata": {},
   "source": [
    "### Define schema"
   ]
  },
  {
   "cell_type": "code",
   "execution_count": 2,
   "metadata": {},
   "outputs": [],
   "source": [
    "file_path = \"file:///\"+environ['DATA_LAKE']\n",
    "graph_fields = [\n",
    "        StructField(name=\"hero_graph\", dataType=StringType(), nullable=True)\n",
    "        ]\n",
    "graph_schema = StructType(graph_fields)\n",
    "\n",
    "hero_fields = [\n",
    "        StructField(name=\"hero_cd\", dataType=IntegerType(), nullable=False),\n",
    "        StructField(name=\"hero_name\", dataType=StringType(), nullable=False)\n",
    "            ]\n",
    "hero_schema = StructType(hero_fields)"
   ]
  },
  {
   "cell_type": "markdown",
   "metadata": {},
   "source": [
    "### Load data"
   ]
  },
  {
   "cell_type": "code",
   "execution_count": 3,
   "metadata": {},
   "outputs": [],
   "source": [
    "spark = SparkSession.builder.appName(\"marvel_characters\").getOrCreate()"
   ]
  },
  {
   "cell_type": "code",
   "execution_count": 4,
   "metadata": {},
   "outputs": [],
   "source": [
    "marvel_graph = spark.read.format(\"csv\").schema(graph_schema).load(file_path+\"Marvel-graph.txt\")"
   ]
  },
  {
   "cell_type": "code",
   "execution_count": 5,
   "metadata": {},
   "outputs": [],
   "source": [
    "hero_names = spark.read.format(\"csv\").option(\"delimiter\", \" \").schema(hero_schema).load(file_path+\"Marvel-names.txt\")"
   ]
  },
  {
   "cell_type": "markdown",
   "metadata": {},
   "source": [
    "### Creating UDF to split the rows and make a list "
   ]
  },
  {
   "cell_type": "code",
   "execution_count": 6,
   "metadata": {},
   "outputs": [],
   "source": [
    "def get_connection_size(line):\n",
    "    return len(line.split())\n",
    "\n",
    "get_connection_size_udf = f.udf(get_connection_size)"
   ]
  },
  {
   "cell_type": "code",
   "execution_count": 7,
   "metadata": {},
   "outputs": [],
   "source": [
    "def get_hero_cd(line):\n",
    "    return line.split()[0]\n",
    "\n",
    "get_hero_cd_udf = f.udf(get_hero_cd)"
   ]
  },
  {
   "cell_type": "code",
   "execution_count": 8,
   "metadata": {},
   "outputs": [],
   "source": [
    "marvel_graph_udf = marvel_graph.withColumn(\"connections\", get_connection_size_udf(marvel_graph.hero_graph)) \\\n",
    "            .withColumn(\"hero_cd\", get_hero_cd_udf(marvel_graph.hero_graph)) \\\n",
    "            .drop(marvel_graph.hero_graph)"
   ]
  },
  {
   "cell_type": "markdown",
   "metadata": {},
   "source": [
    "### Doing the same thing using functions method"
   ]
  },
  {
   "cell_type": "code",
   "execution_count": 9,
   "metadata": {},
   "outputs": [],
   "source": [
    "marvel_graph_func = marvel_graph.withColumn(\"connections\", f.size(f.split(marvel_graph.hero_graph,\" \"))-1) \\\n",
    "                                .withColumn(\"hero_cd\", f.split(marvel_graph.hero_graph,\" \")[0]) \\\n",
    "                                .drop(marvel_graph.hero_graph)"
   ]
  },
  {
   "cell_type": "code",
   "execution_count": 10,
   "metadata": {},
   "outputs": [],
   "source": [
    "popular_super_hero = marvel_graph_func \\\n",
    "        .groupBy(marvel_graph_func.hero_cd) \\\n",
    "        .agg(f.sum(marvel_graph_func.connections) \\\n",
    "        .alias(\"total_connections\")) \\\n",
    "        .orderBy(\"total_connections\", ascending=False) \\\n",
    "        .first()"
   ]
  },
  {
   "cell_type": "code",
   "execution_count": 11,
   "metadata": {},
   "outputs": [],
   "source": [
    "best_hero = hero_names.filter(hero_names.hero_cd == int(popular_super_hero[0])).select(hero_names.hero_name).collect()[0][0]"
   ]
  },
  {
   "cell_type": "code",
   "execution_count": 12,
   "metadata": {},
   "outputs": [],
   "source": [
    "obscure_super_hero = marvel_graph_func \\\n",
    "                .groupBy(marvel_graph_func.hero_cd) \\\n",
    "                .agg(f.sum(marvel_graph_func.connections) \\\n",
    "                .alias(\"total_connections\")) \\\n",
    "                .join(hero_names, marvel_graph_func.hero_cd == hero_names.hero_cd, \"inner\") \\\n",
    "                .filter(f.col(\"total_connections\")==1)"
   ]
  },
  {
   "cell_type": "code",
   "execution_count": 13,
   "metadata": {},
   "outputs": [],
   "source": [
    "obscure_heroes = obscure_super_hero.select(obscure_super_hero.hero_name).collect()"
   ]
  },
  {
   "cell_type": "code",
   "execution_count": 14,
   "metadata": {},
   "outputs": [
    {
     "name": "stdout",
     "output_type": "stream",
     "text": [
      "The most popular hero is CAPTAIN AMERICA and the most obscure superheros are [b'BERSERKER II', b'BLARE/', b'MARVEL BOY II/MARTIN', b'MARVEL BOY/MARTIN BU', b'GIURESCU, RADU', b'CLUMSY FOULUP', b'FENRIS', b'RANDAK', b'SHARKSKIN', b'CALLAHAN, DANNY', b'DEATHCHARGE', b'RUNE', b'SEA LEOPARD', b'RED WOLF II', b'ZANTOR', b'JOHNSON, LYNDON BAIN', b'LUNATIK II', b'KULL', b'GERVASE, LADY ALYSSA']\n"
     ]
    }
   ],
   "source": [
    "print(\"The most popular hero is {} and the most obscure superheros are {}\".format(best_hero, [hero[0].encode(\"ascii\", \"ignore\") for hero in obscure_heroes]))"
   ]
  },
  {
   "cell_type": "code",
   "execution_count": 15,
   "metadata": {},
   "outputs": [
    {
     "data": {
      "text/plain": [
       "[Row(hero_name='BERSERKER II'),\n",
       " Row(hero_name='BLARE/'),\n",
       " Row(hero_name='MARVEL BOY II/MARTIN'),\n",
       " Row(hero_name='MARVEL BOY/MARTIN BU'),\n",
       " Row(hero_name='GIURESCU, RADU'),\n",
       " Row(hero_name='CLUMSY FOULUP'),\n",
       " Row(hero_name='FENRIS'),\n",
       " Row(hero_name='RANDAK'),\n",
       " Row(hero_name='SHARKSKIN'),\n",
       " Row(hero_name='CALLAHAN, DANNY'),\n",
       " Row(hero_name='DEATHCHARGE'),\n",
       " Row(hero_name='RUNE'),\n",
       " Row(hero_name='SEA LEOPARD'),\n",
       " Row(hero_name='RED WOLF II'),\n",
       " Row(hero_name='ZANTOR'),\n",
       " Row(hero_name='JOHNSON, LYNDON BAIN'),\n",
       " Row(hero_name='LUNATIK II'),\n",
       " Row(hero_name='KULL'),\n",
       " Row(hero_name='GERVASE, LADY ALYSSA')]"
      ]
     },
     "execution_count": 15,
     "metadata": {},
     "output_type": "execute_result"
    }
   ],
   "source": [
    "obscure_heroes"
   ]
  },
  {
   "cell_type": "code",
   "execution_count": 16,
   "metadata": {},
   "outputs": [],
   "source": [
    "spark.stop()"
   ]
  }
 ],
 "metadata": {
  "interpreter": {
   "hash": "668a0c9365313c23e463277e6aba067c287d5f8af493a075d87a49f0c4e66349"
  },
  "kernelspec": {
   "display_name": "Python 2",
   "language": "python",
   "name": "python3"
  },
  "language_info": {
   "codemirror_mode": {
    "name": "ipython",
    "version": 3
   },
   "file_extension": ".py",
   "mimetype": "text/x-python",
   "name": "python",
   "nbconvert_exporter": "python",
   "pygments_lexer": "ipython3",
   "version": "3.8.5"
  }
 },
 "nbformat": 4,
 "nbformat_minor": 2
}
