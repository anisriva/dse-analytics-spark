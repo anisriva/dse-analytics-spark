{
 "cells": [
  {
   "cell_type": "code",
   "execution_count": 39,
   "metadata": {},
   "outputs": [],
   "source": [
    "from pyspark.sql import SparkSession, functions as f\n",
    "from pyspark.sql.types import (StructField, StructType, \n",
    "                               IntegerType, StringType,\n",
    "                               FloatType)"
   ]
  },
  {
   "cell_type": "code",
   "execution_count": 40,
   "metadata": {},
   "outputs": [],
   "source": [
    "spark = SparkSession.builder.appName(\"customer_orders\").getOrCreate()"
   ]
  },
  {
   "cell_type": "code",
   "execution_count": 41,
   "metadata": {},
   "outputs": [],
   "source": [
    "fields = [\n",
    "        StructField(\"cust_id\", IntegerType(), True),\n",
    "        StructField(\"item_id\", IntegerType(), True),\n",
    "        StructField(\"amount_spent\", FloatType(), True),\n",
    "        ]\n",
    "final_struct = StructType(fields)"
   ]
  },
  {
   "cell_type": "code",
   "execution_count": 42,
   "metadata": {},
   "outputs": [],
   "source": [
    "input_df = spark.read.format(\"csv\").schema(final_struct).load(\"file:///var/lib/spark/jupyter/data/customer-orders.csv\")"
   ]
  },
  {
   "cell_type": "code",
   "execution_count": 43,
   "metadata": {},
   "outputs": [],
   "source": [
    "total_by_customer = input_df.groupBy(\"cust_id\").agg(f.round(f.sum(\"amount_spent\"), 2).alias(\"total_spent\")).sort(\"total_spent\")"
   ]
  },
  {
   "cell_type": "code",
   "execution_count": 44,
   "metadata": {},
   "outputs": [
    {
     "name": "stdout",
     "output_type": "stream",
     "text": [
      "+-------+-----------+\n",
      "|cust_id|total_spent|\n",
      "+-------+-----------+\n",
      "|     68|    6375.45|\n",
      "+-------+-----------+\n",
      "\n"
     ]
    }
   ],
   "source": [
    "total_by_customer.filter(total_by_customer['cust_id']==68).show()"
   ]
  },
  {
   "cell_type": "code",
   "execution_count": null,
   "metadata": {},
   "outputs": [],
   "source": [
    "spark.stop()"
   ]
  },
  {
   "cell_type": "code",
   "execution_count": null,
   "metadata": {},
   "outputs": [],
   "source": []
  }
 ],
 "metadata": {
  "kernelspec": {
   "display_name": "Python 2",
   "language": "python",
   "name": "python2"
  },
  "language_info": {
   "codemirror_mode": {
    "name": "ipython",
    "version": 2
   },
   "file_extension": ".py",
   "mimetype": "text/x-python",
   "name": "python",
   "nbconvert_exporter": "python",
   "pygments_lexer": "ipython2",
   "version": "2.7.16"
  }
 },
 "nbformat": 4,
 "nbformat_minor": 2
}
