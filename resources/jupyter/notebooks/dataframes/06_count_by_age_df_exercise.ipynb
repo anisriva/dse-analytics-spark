{
 "cells": [
  {
   "cell_type": "markdown",
   "metadata": {},
   "source": [
    "## Boiler plate spark"
   ]
  },
  {
   "cell_type": "code",
   "execution_count": 1,
   "metadata": {},
   "outputs": [],
   "source": [
    "from pyspark.sql import SparkSession\n",
    "from pyspark.sql.types import (StructField, StructType,\n",
    "                                IntegerType, StringType)\n",
    "\n",
    "spark = SparkSession.builder.appName(\"friends_df_ex\").getOrCreate()"
   ]
  },
  {
   "cell_type": "markdown",
   "metadata": {},
   "source": [
    "### bioler plate schema"
   ]
  },
  {
   "cell_type": "code",
   "execution_count": 24,
   "metadata": {},
   "outputs": [],
   "source": [
    "data_schema = [\n",
    "                StructField(name=\"ID\", dataType=IntegerType(), nullable=True),\n",
    "                StructField(name=\"name\", dataType=StringType(), nullable=True),\n",
    "                StructField(name=\"age\", dataType=IntegerType(), nullable=True),\n",
    "                StructField(name=\"num_friends\", dataType=IntegerType(), nullable=True)\n",
    "            ]\n",
    "final_struct = StructType(data_schema)"
   ]
  },
  {
   "cell_type": "code",
   "execution_count": 25,
   "metadata": {},
   "outputs": [],
   "source": [
    "people_df = spark.read.format(\"csv\") \\\n",
    "            .schema(final_struct) \\\n",
    "            .option(\"header\", \"true\") \\\n",
    "            .load(\"file:///var/lib/spark/jupyter/data/fakefriends.csv\")"
   ]
  },
  {
   "cell_type": "markdown",
   "metadata": {},
   "source": [
    "### Its important to select only the related column at the start for efficiency"
   ]
  },
  {
   "cell_type": "code",
   "execution_count": 45,
   "metadata": {},
   "outputs": [
    {
     "name": "stdout",
     "output_type": "stream",
     "text": [
      "+---+------------------+\n",
      "|age|  avg(num_friends)|\n",
      "+---+------------------+\n",
      "| 31|            267.25|\n",
      "| 65|             298.2|\n",
      "| 53|222.85714285714286|\n",
      "| 34|             245.5|\n",
      "| 28|             209.1|\n",
      "| 26|242.05882352941177|\n",
      "| 27|           228.125|\n",
      "| 44| 282.1666666666667|\n",
      "| 22|206.42857142857142|\n",
      "| 47|233.22222222222223|\n",
      "| 52| 340.6363636363636|\n",
      "| 40| 250.8235294117647|\n",
      "| 20|             165.0|\n",
      "| 57| 258.8333333333333|\n",
      "| 54| 278.0769230769231|\n",
      "| 48|             281.4|\n",
      "| 19|213.27272727272728|\n",
      "| 64| 281.3333333333333|\n",
      "| 41|268.55555555555554|\n",
      "| 43|230.57142857142858|\n",
      "+---+------------------+\n",
      "only showing top 20 rows\n",
      "\n"
     ]
    }
   ],
   "source": [
    "people_df \\\n",
    "    .select(people_df.age, people_df.num_friends) \\\n",
    "    .groupBy(\"age\") \\\n",
    "    .avg(\"num_friends\") \\\n",
    "    .show()"
   ]
  },
  {
   "cell_type": "markdown",
   "metadata": {},
   "source": [
    "### clumping multiple commands using agg"
   ]
  },
  {
   "cell_type": "code",
   "execution_count": 47,
   "metadata": {},
   "outputs": [
    {
     "name": "stdout",
     "output_type": "stream",
     "text": [
      "+---+-----------+\n",
      "|age|friends_avg|\n",
      "+---+-----------+\n",
      "| 31|     267.25|\n",
      "| 65|      298.2|\n",
      "| 53|     222.86|\n",
      "| 34|      245.5|\n",
      "| 28|      209.1|\n",
      "| 26|     242.06|\n",
      "| 27|     228.13|\n",
      "| 44|     282.17|\n",
      "| 22|     206.43|\n",
      "| 47|     233.22|\n",
      "| 52|     340.64|\n",
      "| 40|     250.82|\n",
      "| 20|      165.0|\n",
      "| 57|     258.83|\n",
      "| 54|     278.08|\n",
      "| 48|      281.4|\n",
      "| 19|     213.27|\n",
      "| 64|     281.33|\n",
      "| 41|     268.56|\n",
      "| 43|     230.57|\n",
      "+---+-----------+\n",
      "only showing top 20 rows\n",
      "\n"
     ]
    }
   ],
   "source": [
    "from pyspark.sql import functions as f\n",
    "people_df \\\n",
    "    .select(people_df.age, people_df.num_friends) \\\n",
    "    .groupBy(\"age\") \\\n",
    "    .agg(f.round(f.avg(\"num_friends\"), 2).alias(\"friends_avg\")) \\\n",
    "    .show()"
   ]
  },
  {
   "cell_type": "code",
   "execution_count": null,
   "metadata": {},
   "outputs": [],
   "source": []
  }
 ],
 "metadata": {
  "kernelspec": {
   "display_name": "Python 2",
   "language": "python",
   "name": "python2"
  },
  "language_info": {
   "codemirror_mode": {
    "name": "ipython",
    "version": 2
   },
   "file_extension": ".py",
   "mimetype": "text/x-python",
   "name": "python",
   "nbconvert_exporter": "python",
   "pygments_lexer": "ipython2",
   "version": "2.7.16"
  }
 },
 "nbformat": 4,
 "nbformat_minor": 2
}
