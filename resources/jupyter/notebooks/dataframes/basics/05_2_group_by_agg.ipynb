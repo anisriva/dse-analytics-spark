{
 "cells": [
  {
   "cell_type": "markdown",
   "metadata": {},
   "source": [
    "## Group example"
   ]
  },
  {
   "cell_type": "code",
   "execution_count": 1,
   "metadata": {},
   "outputs": [],
   "source": [
    "from os import environ\n",
    "from pyspark.sql import SparkSession, functions as f\n",
    "from pyspark.sql.types import (StructField, StructType, \n",
    "                               IntegerType,\n",
    "                               FloatType)"
   ]
  },
  {
   "cell_type": "code",
   "execution_count": 2,
   "metadata": {},
   "outputs": [],
   "source": [
    "spark = SparkSession.builder.appName(\"customer_orders\").getOrCreate()"
   ]
  },
  {
   "cell_type": "code",
   "execution_count": 3,
   "metadata": {},
   "outputs": [],
   "source": [
    "file_path = \"file:///\"+environ['DATA_LAKE']\n",
    "fields = [\n",
    "        StructField(\"cust_id\", IntegerType(), True),\n",
    "        StructField(\"item_id\", IntegerType(), True),\n",
    "        StructField(\"amount_spent\", FloatType(), True),\n",
    "        ]\n",
    "final_struct = StructType(fields)"
   ]
  },
  {
   "cell_type": "code",
   "execution_count": 4,
   "metadata": {},
   "outputs": [
    {
     "name": "stdout",
     "output_type": "stream",
     "text": [
      "+-------+-------+------------+\n",
      "|cust_id|item_id|amount_spent|\n",
      "+-------+-------+------------+\n",
      "|     44|   8602|       37.19|\n",
      "|     35|   5368|       65.89|\n",
      "|      2|   3391|       40.64|\n",
      "|     47|   6694|       14.98|\n",
      "|     29|    680|       13.08|\n",
      "|     91|   8900|       24.59|\n",
      "|     70|   3959|       68.68|\n",
      "|     85|   1733|       28.53|\n",
      "|     53|   9900|       83.55|\n",
      "|     14|   1505|        4.32|\n",
      "|     51|   3378|        19.8|\n",
      "|     42|   6926|       57.77|\n",
      "|      2|   4424|       55.77|\n",
      "|     79|   9291|       33.17|\n",
      "|     50|   3901|       23.57|\n",
      "|     20|   6633|        6.49|\n",
      "|     15|   6148|       65.53|\n",
      "|     44|   8331|       99.19|\n",
      "|      5|   3505|       64.18|\n",
      "|     48|   5539|       32.42|\n",
      "+-------+-------+------------+\n",
      "only showing top 20 rows\n",
      "\n"
     ]
    }
   ],
   "source": [
    "input_df = spark.read.format(\"csv\").schema(final_struct).load(file_path+\"customer-orders.csv\")\n",
    "input_df.show()"
   ]
  },
  {
   "cell_type": "code",
   "execution_count": 5,
   "metadata": {},
   "outputs": [],
   "source": [
    "total_by_customer = input_df.groupBy(\"cust_id\").agg(f.round(f.sum(\"amount_spent\"), 2).alias(\"total_spent\")).sort(\"total_spent\")"
   ]
  },
  {
   "cell_type": "code",
   "execution_count": 6,
   "metadata": {},
   "outputs": [
    {
     "name": "stdout",
     "output_type": "stream",
     "text": [
      "+-------+-----------+\n",
      "|cust_id|total_spent|\n",
      "+-------+-----------+\n",
      "|     68|    6375.45|\n",
      "+-------+-----------+\n",
      "\n"
     ]
    }
   ],
   "source": [
    "total_by_customer.filter(total_by_customer['cust_id']==68).show()"
   ]
  },
  {
   "cell_type": "code",
   "execution_count": 7,
   "metadata": {},
   "outputs": [],
   "source": [
    "spark.stop()"
   ]
  }
 ],
 "metadata": {
  "interpreter": {
   "hash": "668a0c9365313c23e463277e6aba067c287d5f8af493a075d87a49f0c4e66349"
  },
  "kernelspec": {
   "display_name": "Python 2",
   "language": "python",
   "name": "python3"
  },
  "language_info": {
   "codemirror_mode": {
    "name": "ipython",
    "version": 3
   },
   "file_extension": ".py",
   "mimetype": "text/x-python",
   "name": "python",
   "nbconvert_exporter": "python",
   "pygments_lexer": "ipython3",
   "version": "3.8.5"
  }
 },
 "nbformat": 4,
 "nbformat_minor": 2
}
