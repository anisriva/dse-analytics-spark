{
 "cells": [
  {
   "cell_type": "code",
   "execution_count": 37,
   "metadata": {},
   "outputs": [],
   "source": [
    "from os import environ\n",
    "from pyspark.sql import SparkSession\n",
    "from pyspark.sql.types import StringType, ArrayType, StructField, StructType, IntegerType\n",
    "from pyspark.sql.functions import col, to_json, from_json, collect_list"
   ]
  },
  {
   "cell_type": "code",
   "execution_count": 26,
   "metadata": {},
   "outputs": [],
   "source": [
    "spark = SparkSession.builder.appName(\"renameJson\").getOrCreate()\n",
    "data_lake = environ['DATA_LAKE']"
   ]
  },
  {
   "cell_type": "code",
   "execution_count": 27,
   "metadata": {},
   "outputs": [],
   "source": [
    "df = spark.read.csv(data_lake+\"csv_rename.csv\", header=True)"
   ]
  },
  {
   "cell_type": "code",
   "execution_count": 28,
   "metadata": {},
   "outputs": [
    {
     "name": "stdout",
     "output_type": "stream",
     "text": [
      "root\n",
      " |-- candidate_email: string (nullable = true)\n",
      " |-- transactions: string (nullable = true)\n",
      "\n"
     ]
    }
   ],
   "source": [
    "df.printSchema()"
   ]
  },
  {
   "cell_type": "code",
   "execution_count": 34,
   "metadata": {},
   "outputs": [],
   "source": [
    "st = ArrayType(StructType([StructField(\"id\", IntegerType()), StructField(\"amount\", StringType())]))\n",
    "st = ArrayType(StructType([StructField(\"id\", StringType()),StructField(\"amount\", StringType())]))"
   ]
  },
  {
   "cell_type": "code",
   "execution_count": 38,
   "metadata": {},
   "outputs": [
    {
     "name": "stdout",
     "output_type": "stream",
     "text": [
      "+---------------+----------------+\n",
      "|candidate_email|transactions    |\n",
      "+---------------+----------------+\n",
      "|cust2@email.com|[{}, {}]        |\n",
      "|cust1@email.com|[{}, {}, {}, {}]|\n",
      "+---------------+----------------+\n",
      "\n"
     ]
    }
   ],
   "source": [
    "df.withColumn(\"jsn\",from_json(col(\"transactions\"),st).cast(\"array<struct<id:string,amount:string>>\")).\\\n",
    "selectExpr(\"*\",\"explode(jsn)\").\\\n",
    "select(\"*\",\"col.*\").\\\n",
    "selectExpr(\"candidate_email\",\"to_json(struct(id,amount)) as trans\").\\\n",
    "groupBy(\"candidate_email\").\\\n",
    "agg(collect_list(\"trans\").alias(\"transactions\")).\\\n",
    "show(10,False)"
   ]
  },
  {
   "cell_type": "code",
   "execution_count": 31,
   "metadata": {},
   "outputs": [],
   "source": [
    "# spark.stop()"
   ]
  },
  {
   "cell_type": "code",
   "execution_count": null,
   "metadata": {},
   "outputs": [],
   "source": []
  }
 ],
 "metadata": {
  "interpreter": {
   "hash": "668a0c9365313c23e463277e6aba067c287d5f8af493a075d87a49f0c4e66349"
  },
  "kernelspec": {
   "display_name": "Python 2",
   "language": "python",
   "name": "python3"
  },
  "language_info": {
   "codemirror_mode": {
    "name": "ipython",
    "version": 3
   },
   "file_extension": ".py",
   "mimetype": "text/x-python",
   "name": "python",
   "nbconvert_exporter": "python",
   "pygments_lexer": "ipython3",
   "version": "3.8.5"
  }
 },
 "nbformat": 4,
 "nbformat_minor": 2
}
