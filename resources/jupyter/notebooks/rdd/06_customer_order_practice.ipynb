{
 "cells": [
  {
   "cell_type": "code",
   "execution_count": 1,
   "metadata": {},
   "outputs": [],
   "source": [
    "from pyspark import SparkConf, SparkContext"
   ]
  },
  {
   "cell_type": "code",
   "execution_count": 2,
   "metadata": {},
   "outputs": [],
   "source": [
    "conf = SparkConf().setAppName(\"cust_order\")"
   ]
  },
  {
   "cell_type": "code",
   "execution_count": 3,
   "metadata": {},
   "outputs": [],
   "source": [
    "sc = SparkContext(conf=conf)"
   ]
  },
  {
   "cell_type": "code",
   "execution_count": 4,
   "metadata": {},
   "outputs": [],
   "source": [
    "file_path = \"file:///var/lib/spark/jupyter/data/customer-orders.csv\""
   ]
  },
  {
   "cell_type": "code",
   "execution_count": 5,
   "metadata": {},
   "outputs": [],
   "source": [
    "lines_rdd = sc.textFile(file_path)"
   ]
  },
  {
   "cell_type": "code",
   "execution_count": 22,
   "metadata": {},
   "outputs": [],
   "source": [
    "def parse_line(line):\n",
    "    fields = line.split(\",\")\n",
    "    customer_id = int(fields[0])\n",
    "    amt = float(fields[2])\n",
    "    return (customer_id, amt)"
   ]
  },
  {
   "cell_type": "code",
   "execution_count": 23,
   "metadata": {},
   "outputs": [],
   "source": [
    "kv_cust_rdd = lines_rdd.map(parse_line)"
   ]
  },
  {
   "cell_type": "code",
   "execution_count": 43,
   "metadata": {},
   "outputs": [],
   "source": [
    "total_amt = kv_cust_rdd.reduceByKey(lambda x,y : x+y).map(lambda (x,y):(y,x)).sortByKey(\"desc\").map(lambda (x,y):(y,x))"
   ]
  },
  {
   "cell_type": "code",
   "execution_count": 44,
   "metadata": {},
   "outputs": [],
   "source": [
    "result = total_amt.collect()"
   ]
  },
  {
   "cell_type": "code",
   "execution_count": 45,
   "metadata": {},
   "outputs": [
    {
     "name": "stdout",
     "output_type": "stream",
     "text": [
      "(45, 3309.3799999999997)\n",
      "(79, 3790.5699999999997)\n",
      "(96, 3924.2300000000005)\n",
      "(23, 4042.65)\n",
      "(99, 4172.29)\n",
      "(75, 4178.5)\n",
      "(36, 4278.049999999999)\n",
      "(98, 4297.259999999999)\n",
      "(47, 4316.299999999998)\n",
      "(77, 4327.73)\n",
      "(13, 4367.619999999999)\n",
      "(48, 4384.33)\n",
      "(49, 4394.6)\n",
      "(94, 4475.570000000001)\n",
      "(67, 4505.79)\n",
      "(50, 4517.2699999999995)\n",
      "(78, 4524.51)\n",
      "(5, 4561.07)\n",
      "(57, 4628.4)\n",
      "(83, 4635.8)\n",
      "(91, 4642.26)\n",
      "(74, 4647.130000000001)\n",
      "(84, 4652.9400000000005)\n",
      "(3, 4659.63)\n",
      "(12, 4664.589999999999)\n",
      "(66, 4681.92)\n",
      "(56, 4701.02)\n",
      "(21, 4707.41)\n",
      "(80, 4727.86)\n",
      "(14, 4735.030000000001)\n",
      "(37, 4735.200000000001)\n",
      "(7, 4755.069999999999)\n",
      "(44, 4756.890000000001)\n",
      "(31, 4765.049999999999)\n",
      "(82, 4812.49)\n",
      "(4, 4815.050000000001)\n",
      "(10, 4819.7)\n",
      "(88, 4830.55)\n",
      "(20, 4836.860000000001)\n",
      "(89, 4851.48)\n",
      "(95, 4876.839999999998)\n",
      "(38, 4898.460000000001)\n",
      "(76, 4904.210000000001)\n",
      "(86, 4908.810000000001)\n",
      "(27, 4915.89)\n",
      "(18, 4921.269999999999)\n",
      "(53, 4945.300000000001)\n",
      "(1, 4958.600000000001)\n",
      "(51, 4975.220000000001)\n",
      "(16, 4979.06)\n",
      "(30, 4990.72)\n",
      "(28, 5000.709999999999)\n",
      "(22, 5019.449999999999)\n",
      "(29, 5032.530000000001)\n",
      "(17, 5032.68)\n",
      "(60, 5040.709999999999)\n",
      "(25, 5057.610000000001)\n",
      "(19, 5059.43)\n",
      "(81, 5112.709999999999)\n",
      "(69, 5123.01)\n",
      "(65, 5140.35)\n",
      "(11, 5152.289999999999)\n",
      "(35, 5155.420000000001)\n",
      "(40, 5186.429999999999)\n",
      "(87, 5206.4)\n",
      "(52, 5245.0599999999995)\n",
      "(26, 5250.4)\n",
      "(62, 5253.3200000000015)\n",
      "(33, 5254.660000000002)\n",
      "(24, 5259.92)\n",
      "(93, 5265.75)\n",
      "(64, 5288.689999999999)\n",
      "(90, 5290.41)\n",
      "(55, 5298.089999999999)\n",
      "(9, 5322.65)\n",
      "(34, 5330.8)\n",
      "(72, 5337.439999999999)\n",
      "(70, 5368.249999999999)\n",
      "(43, 5368.83)\n",
      "(92, 5379.279999999999)\n",
      "(6, 5397.879999999999)\n",
      "(15, 5413.51)\n",
      "(63, 5415.1500000000015)\n",
      "(58, 5437.73)\n",
      "(32, 5496.05)\n",
      "(61, 5497.4800000000005)\n",
      "(85, 5503.43)\n",
      "(8, 5517.24)\n",
      "(0, 5524.949999999999)\n",
      "(41, 5637.620000000001)\n",
      "(59, 5642.889999999999)\n",
      "(42, 5696.840000000002)\n",
      "(46, 5963.109999999999)\n",
      "(97, 5977.1900000000005)\n",
      "(2, 5994.59)\n",
      "(71, 5995.660000000002)\n",
      "(54, 6065.390000000001)\n",
      "(39, 6193.110000000001)\n",
      "(73, 6206.200000000001)\n",
      "(68, 6375.450000000001)\n"
     ]
    }
   ],
   "source": [
    "for res in result:\n",
    "    print(res[0],float(res[1]))"
   ]
  },
  {
   "cell_type": "code",
   "execution_count": null,
   "metadata": {},
   "outputs": [],
   "source": []
  }
 ],
 "metadata": {
  "kernelspec": {
   "display_name": "Python 2",
   "language": "python",
   "name": "python2"
  },
  "language_info": {
   "codemirror_mode": {
    "name": "ipython",
    "version": 2
   },
   "file_extension": ".py",
   "mimetype": "text/x-python",
   "name": "python",
   "nbconvert_exporter": "python",
   "pygments_lexer": "ipython2",
   "version": "2.7.16"
  }
 },
 "nbformat": 4,
 "nbformat_minor": 2
}
