{
 "cells": [
  {
   "cell_type": "markdown",
   "metadata": {},
   "source": [
    "Working key value rdds works really well in spark as it looks a lot like a no-sql database\n",
    "\n",
    "Key Value rdds supports:\n",
    "    - join\n",
    "    - rightOuterJoin\n",
    "    - leftOuterJoin\n",
    "    - cogroup\n",
    "    - subtractByKey\n",
    "\n",
    "With key value RDD its important to use because its more efficient:\n",
    "    - mapvalues() instead of map()\n",
    "    - flatMapValues() instead of flatMap()\n",
    "\n"
   ]
  },
  {
   "cell_type": "code",
   "execution_count": 1,
   "metadata": {},
   "outputs": [],
   "source": [
    "from pyspark import SparkContext, SparkConf"
   ]
  },
  {
   "cell_type": "code",
   "execution_count": 4,
   "metadata": {},
   "outputs": [],
   "source": [
    "conf = SparkConf().setAppName(\"key_val_fake_friends\")"
   ]
  },
  {
   "cell_type": "code",
   "execution_count": 5,
   "metadata": {},
   "outputs": [],
   "source": [
    "sc = SparkContext(conf=conf)"
   ]
  },
  {
   "cell_type": "code",
   "execution_count": 6,
   "metadata": {},
   "outputs": [],
   "source": [
    "file_path = \"file:///var/lib/spark/jupyter/data/fakefriends.csv\"\n",
    "lines_rdd = sc.textFile(file_path)"
   ]
  },
  {
   "cell_type": "code",
   "execution_count": 16,
   "metadata": {},
   "outputs": [],
   "source": [
    "def parseLine(line):\n",
    "    fields = line.split(\",\")\n",
    "    # its important to cast objects to int for performing arithmetic ops\n",
    "    age = int(fields[2])\n",
    "    num_friends= int(fields[3])\n",
    "    return (age, num_friends)"
   ]
  },
  {
   "cell_type": "code",
   "execution_count": 20,
   "metadata": {},
   "outputs": [],
   "source": [
    "kv_rdd = lines_rdd.map(parseLine)"
   ]
  },
  {
   "cell_type": "code",
   "execution_count": 23,
   "metadata": {},
   "outputs": [],
   "source": [
    "totals_by_age = kv_rdd.mapValues(lambda x:(x,1)).reduceByKey(lambda x,y:(x[0]+y[0], x[1]+y[1]))"
   ]
  },
  {
   "cell_type": "code",
   "execution_count": 31,
   "metadata": {},
   "outputs": [],
   "source": [
    "average_by_age = totals_by_age.mapValues(lambda x:x[0]*1.0/x[1])"
   ]
  },
  {
   "cell_type": "code",
   "execution_count": 32,
   "metadata": {},
   "outputs": [
    {
     "data": {
      "text/plain": [
       "[(18, 343.375),\n",
       " (20, 165.0),\n",
       " (22, 206.42857142857142),\n",
       " (24, 233.8),\n",
       " (26, 242.05882352941177),\n",
       " (28, 209.1),\n",
       " (30, 235.8181818181818),\n",
       " (32, 207.9090909090909),\n",
       " (34, 245.5),\n",
       " (36, 246.6),\n",
       " (38, 193.53333333333333),\n",
       " (40, 250.8235294117647),\n",
       " (42, 303.5),\n",
       " (44, 282.1666666666667),\n",
       " (46, 223.69230769230768),\n",
       " (48, 281.4),\n",
       " (50, 254.6),\n",
       " (52, 340.6363636363636),\n",
       " (54, 278.0769230769231),\n",
       " (56, 306.6666666666667),\n",
       " (58, 116.54545454545455),\n",
       " (60, 202.71428571428572),\n",
       " (62, 220.76923076923077),\n",
       " (64, 281.3333333333333),\n",
       " (66, 276.44444444444446),\n",
       " (68, 269.6),\n",
       " (19, 213.27272727272728),\n",
       " (21, 350.875),\n",
       " (23, 246.3),\n",
       " (25, 197.45454545454547),\n",
       " (27, 228.125),\n",
       " (29, 215.91666666666666),\n",
       " (31, 267.25),\n",
       " (33, 325.3333333333333),\n",
       " (35, 211.625),\n",
       " (37, 249.33333333333334),\n",
       " (39, 169.28571428571428),\n",
       " (41, 268.55555555555554),\n",
       " (43, 230.57142857142858),\n",
       " (45, 309.53846153846155),\n",
       " (47, 233.22222222222223),\n",
       " (49, 184.66666666666666),\n",
       " (51, 302.14285714285717),\n",
       " (53, 222.85714285714286),\n",
       " (55, 295.53846153846155),\n",
       " (57, 258.8333333333333),\n",
       " (59, 220.0),\n",
       " (61, 256.22222222222223),\n",
       " (63, 384.0),\n",
       " (65, 298.2),\n",
       " (67, 214.625),\n",
       " (69, 235.2)]"
      ]
     },
     "execution_count": 32,
     "metadata": {},
     "output_type": "execute_result"
    }
   ],
   "source": [
    "average_by_age.collect()"
   ]
  },
  {
   "cell_type": "code",
   "execution_count": 33,
   "metadata": {},
   "outputs": [],
   "source": [
    "sc.stop()"
   ]
  }
 ],
 "metadata": {
  "kernelspec": {
   "display_name": "Python 2",
   "language": "python",
   "name": "python2"
  },
  "language_info": {
   "codemirror_mode": {
    "name": "ipython",
    "version": 2
   },
   "file_extension": ".py",
   "mimetype": "text/x-python",
   "name": "python",
   "nbconvert_exporter": "python",
   "pygments_lexer": "ipython2",
   "version": "2.7.16"
  }
 },
 "nbformat": 4,
 "nbformat_minor": 2
}
